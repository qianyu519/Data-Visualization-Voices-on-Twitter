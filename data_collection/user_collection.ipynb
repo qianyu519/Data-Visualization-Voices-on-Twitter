{
 "cells": [
  {
   "cell_type": "code",
   "execution_count": 1,
   "id": "4fc7213d",
   "metadata": {},
   "outputs": [],
   "source": [
    "# mtguo api info, for own use\n",
    "APP_KEY = \"6Za9udEfRSIwbs4r4spIDWVoI\"\n",
    "APP_SECRET = \"uWPd8uyroDChxv8SRwiyHtoBSNvSX6Bfr8wOTFK3LDta7hFvBv\"\n",
    "bearer_token = \"AAAAAAAAAAAAAAAAAAAAAJ4xTgEAAAAAYj9x0ILmjyth5p6Pdi1u%2FApTyXg%3DHHAfSBALcFxN9SZ8wgoH66vTMrs6ortrxPgBi3bDpTgHSJS2f4\"\n",
    "access_token = \"1430922816950398976-vdASh3ke7ZKsa1p5eTMbuFSPLRoj3N\"\n",
    "access_token_secret = \"xOQ8DTFyA8rrceQAPu9uAWxOPJrKDVFQNbLIFMFKeo3BU\""
   ]
  },
  {
   "cell_type": "code",
   "execution_count": 2,
   "id": "92f770d4",
   "metadata": {},
   "outputs": [],
   "source": [
    "from twython import Twython\n",
    "import os\n",
    "import json\n",
    "import requests"
   ]
  },
  {
   "cell_type": "code",
   "execution_count": 3,
   "id": "ac9ebda0",
   "metadata": {},
   "outputs": [],
   "source": [
    "twitter = Twython(APP_KEY, APP_SECRET, oauth_version=2)\n",
    "ACCESS_TOKEN = twitter.obtain_access_token()"
   ]
  },
  {
   "cell_type": "code",
   "execution_count": 4,
   "id": "01a38721",
   "metadata": {},
   "outputs": [],
   "source": [
    "twitter = Twython(APP_KEY, access_token=ACCESS_TOKEN)"
   ]
  },
  {
   "cell_type": "code",
   "execution_count": 5,
   "id": "96ad918c",
   "metadata": {},
   "outputs": [],
   "source": [
    "user_list_name = {\n",
    "    \"COVID-19_Reporters\": 1359798799351373825,\n",
    "    \"COVID-19_Universities\": 1360271410615226370,\n",
    "    \"COVID-19_Lab_research\": 1359741132142301195,\n",
    "    \"COVID-19_Med_Journals\": 1359586593187770371,\n",
    "    \"COVID-19_Scientists\": 1361637474586476544,\n",
    "    \"COVID-19_Frontline_staff\": 1361710248017412097,\n",
    "    \"AskReuters_COVID_Tests\": 1328716250311237632,\n",
    "    \"BI_Coronavirus_Coverage\": 1240261344974299136,\n",
    "    \"AskReuters_Vaccines\": 1349068480587431937,\n",
    "    \"COVID-19_US_officials\": 1362063263249272834,\n",
    "    \"COVID-19_US_reporters\": 1359827179023069185,\n",
    "    \"COVID_and_the_Classroom\": 1301177909130993665,\n",
    "    \"CDC_on_Twitter\": 13489003\n",
    "}"
   ]
  },
  {
   "cell_type": "code",
   "execution_count": 6,
   "id": "3853ba70",
   "metadata": {},
   "outputs": [],
   "source": [
    "for key, list_id in user_list_name.items():\n",
    "    members = twitter.get_list_members(list_id=list_id, count=200)\n",
    "    fields = ['id', 'name', 'screen_name', 'location', 'followers_count', 'favourites_count']\n",
    "    user_list = []\n",
    "    for user in members['users']:\n",
    "        user_object = {}\n",
    "        for field in fields:\n",
    "            user_object[field] = user[field]\n",
    "        user_list.append(user_object)\n",
    "    json_string = json.dumps(user_list)\n",
    "    with open(f'data/user_list/{key}.json', 'w') as out_file:\n",
    "        out_file.write(json_string)"
   ]
  },
  {
   "cell_type": "code",
   "execution_count": null,
   "id": "a02d53ee",
   "metadata": {},
   "outputs": [],
   "source": []
  }
 ],
 "metadata": {
  "kernelspec": {
   "display_name": "Python 3",
   "language": "python",
   "name": "python3"
  },
  "language_info": {
   "codemirror_mode": {
    "name": "ipython",
    "version": 3
   },
   "file_extension": ".py",
   "mimetype": "text/x-python",
   "name": "python",
   "nbconvert_exporter": "python",
   "pygments_lexer": "ipython3",
   "version": "3.6.12"
  }
 },
 "nbformat": 4,
 "nbformat_minor": 5
}
